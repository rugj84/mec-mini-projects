{
 "cells": [
  {
   "attachments": {},
   "cell_type": "markdown",
   "metadata": {},
   "source": [
    "# Mini-Project: Data Wrangling and Transformation with Pandas\n",
    "\n",
    "Working with tabular data is a necessity for anyone with enterprises having a majority of their data in relational databases and flat files. This mini-project is adopted from the excellent tutorial on pandas by Brandon Rhodes which you have watched earlier in the Data Wrangling Unit. In this mini-project, we will be looking at some interesting data based on movie data from the IMDB.\n",
    "\n",
    "This assignment should help you reinforce the concepts you learnt in the curriculum for Data Wrangling and sharpen your skills in using Pandas. Good Luck!"
   ]
  },
  {
   "attachments": {},
   "cell_type": "markdown",
   "metadata": {},
   "source": [
    "### Please make sure you have one of the more recent versions of Pandas"
   ]
  },
  {
   "cell_type": "code",
   "execution_count": 2,
   "metadata": {},
   "outputs": [],
   "source": [
    "import pandas as pd\n",
    "import matplotlib.pyplot as plt\n",
    "\n",
    "%matplotlib inline"
   ]
  },
  {
   "cell_type": "code",
   "execution_count": 3,
   "metadata": {},
   "outputs": [
    {
     "data": {
      "text/plain": [
       "'2.0.2'"
      ]
     },
     "execution_count": 3,
     "metadata": {},
     "output_type": "execute_result"
    }
   ],
   "source": [
    "pd.__version__"
   ]
  },
  {
   "attachments": {},
   "cell_type": "markdown",
   "metadata": {},
   "source": [
    "## Taking a look at the Movies dataset\n",
    "This data shows the movies based on their title and the year of release"
   ]
  },
  {
   "cell_type": "code",
   "execution_count": 4,
   "metadata": {},
   "outputs": [
    {
     "name": "stdout",
     "output_type": "stream",
     "text": [
      "<class 'pandas.core.frame.DataFrame'>\n",
      "RangeIndex: 244914 entries, 0 to 244913\n",
      "Data columns (total 2 columns):\n",
      " #   Column  Non-Null Count   Dtype \n",
      "---  ------  --------------   ----- \n",
      " 0   title   244913 non-null  object\n",
      " 1   year    244914 non-null  int64 \n",
      "dtypes: int64(1), object(1)\n",
      "memory usage: 3.7+ MB\n"
     ]
    }
   ],
   "source": [
    "movies = pd.read_csv('titles.csv')\n",
    "movies.info()"
   ]
  },
  {
   "cell_type": "code",
   "execution_count": 5,
   "metadata": {},
   "outputs": [
    {
     "data": {
      "text/html": [
       "<div>\n",
       "<style scoped>\n",
       "    .dataframe tbody tr th:only-of-type {\n",
       "        vertical-align: middle;\n",
       "    }\n",
       "\n",
       "    .dataframe tbody tr th {\n",
       "        vertical-align: top;\n",
       "    }\n",
       "\n",
       "    .dataframe thead th {\n",
       "        text-align: right;\n",
       "    }\n",
       "</style>\n",
       "<table border=\"1\" class=\"dataframe\">\n",
       "  <thead>\n",
       "    <tr style=\"text-align: right;\">\n",
       "      <th></th>\n",
       "      <th>title</th>\n",
       "      <th>year</th>\n",
       "    </tr>\n",
       "  </thead>\n",
       "  <tbody>\n",
       "    <tr>\n",
       "      <th>0</th>\n",
       "      <td>The Ticket to the Life</td>\n",
       "      <td>2009</td>\n",
       "    </tr>\n",
       "    <tr>\n",
       "      <th>1</th>\n",
       "      <td>Parallel Worlds: A New Rock Music Experience</td>\n",
       "      <td>2016</td>\n",
       "    </tr>\n",
       "    <tr>\n",
       "      <th>2</th>\n",
       "      <td>Morita - La hija de Jesus</td>\n",
       "      <td>2008</td>\n",
       "    </tr>\n",
       "    <tr>\n",
       "      <th>3</th>\n",
       "      <td>Gun</td>\n",
       "      <td>2017</td>\n",
       "    </tr>\n",
       "    <tr>\n",
       "      <th>4</th>\n",
       "      <td>Love or Nothing at All</td>\n",
       "      <td>2014</td>\n",
       "    </tr>\n",
       "  </tbody>\n",
       "</table>\n",
       "</div>"
      ],
      "text/plain": [
       "                                          title  year\n",
       "0                        The Ticket to the Life  2009\n",
       "1  Parallel Worlds: A New Rock Music Experience  2016\n",
       "2                     Morita - La hija de Jesus  2008\n",
       "3                                           Gun  2017\n",
       "4                        Love or Nothing at All  2014"
      ]
     },
     "execution_count": 5,
     "metadata": {},
     "output_type": "execute_result"
    }
   ],
   "source": [
    "movies.head()"
   ]
  },
  {
   "attachments": {},
   "cell_type": "markdown",
   "metadata": {},
   "source": [
    "## Taking a look at the Cast dataset\n",
    "\n",
    "This data shows the cast (actors, actresses, supporting roles) for each movie\n",
    "\n",
    "- The attribute `n` basically tells the importance of the cast role, lower the number, more important the role.\n",
    "- Supporting cast usually don't have any value for `n`"
   ]
  },
  {
   "cell_type": "code",
   "execution_count": 6,
   "metadata": {},
   "outputs": [
    {
     "name": "stdout",
     "output_type": "stream",
     "text": [
      "<class 'pandas.core.frame.DataFrame'>\n",
      "RangeIndex: 3786176 entries, 0 to 3786175\n",
      "Data columns (total 6 columns):\n",
      " #   Column     Dtype  \n",
      "---  ------     -----  \n",
      " 0   title      object \n",
      " 1   year       int64  \n",
      " 2   name       object \n",
      " 3   type       object \n",
      " 4   character  object \n",
      " 5   n          float64\n",
      "dtypes: float64(1), int64(1), object(4)\n",
      "memory usage: 173.3+ MB\n"
     ]
    }
   ],
   "source": [
    "cast = pd.read_csv('cast.csv.zip')\n",
    "cast.info()"
   ]
  },
  {
   "cell_type": "code",
   "execution_count": 6,
   "metadata": {},
   "outputs": [
    {
     "data": {
      "text/html": [
       "<div>\n",
       "<style scoped>\n",
       "    .dataframe tbody tr th:only-of-type {\n",
       "        vertical-align: middle;\n",
       "    }\n",
       "\n",
       "    .dataframe tbody tr th {\n",
       "        vertical-align: top;\n",
       "    }\n",
       "\n",
       "    .dataframe thead th {\n",
       "        text-align: right;\n",
       "    }\n",
       "</style>\n",
       "<table border=\"1\" class=\"dataframe\">\n",
       "  <thead>\n",
       "    <tr style=\"text-align: right;\">\n",
       "      <th></th>\n",
       "      <th>title</th>\n",
       "      <th>year</th>\n",
       "      <th>name</th>\n",
       "      <th>type</th>\n",
       "      <th>character</th>\n",
       "      <th>n</th>\n",
       "    </tr>\n",
       "  </thead>\n",
       "  <tbody>\n",
       "    <tr>\n",
       "      <th>0</th>\n",
       "      <td>Closet Monster</td>\n",
       "      <td>2015</td>\n",
       "      <td>Buffy #1</td>\n",
       "      <td>actor</td>\n",
       "      <td>Buffy 4</td>\n",
       "      <td>31.0</td>\n",
       "    </tr>\n",
       "    <tr>\n",
       "      <th>1</th>\n",
       "      <td>Suuri illusioni</td>\n",
       "      <td>1985</td>\n",
       "      <td>Homo $</td>\n",
       "      <td>actor</td>\n",
       "      <td>Guests</td>\n",
       "      <td>22.0</td>\n",
       "    </tr>\n",
       "    <tr>\n",
       "      <th>2</th>\n",
       "      <td>Battle of the Sexes</td>\n",
       "      <td>2017</td>\n",
       "      <td>$hutter</td>\n",
       "      <td>actor</td>\n",
       "      <td>Bobby Riggs Fan</td>\n",
       "      <td>10.0</td>\n",
       "    </tr>\n",
       "    <tr>\n",
       "      <th>3</th>\n",
       "      <td>Secret in Their Eyes</td>\n",
       "      <td>2015</td>\n",
       "      <td>$hutter</td>\n",
       "      <td>actor</td>\n",
       "      <td>2002 Dodger Fan</td>\n",
       "      <td>NaN</td>\n",
       "    </tr>\n",
       "    <tr>\n",
       "      <th>4</th>\n",
       "      <td>Steve Jobs</td>\n",
       "      <td>2015</td>\n",
       "      <td>$hutter</td>\n",
       "      <td>actor</td>\n",
       "      <td>1988 Opera House Patron</td>\n",
       "      <td>NaN</td>\n",
       "    </tr>\n",
       "    <tr>\n",
       "      <th>5</th>\n",
       "      <td>Straight Outta Compton</td>\n",
       "      <td>2015</td>\n",
       "      <td>$hutter</td>\n",
       "      <td>actor</td>\n",
       "      <td>Club Patron</td>\n",
       "      <td>NaN</td>\n",
       "    </tr>\n",
       "    <tr>\n",
       "      <th>6</th>\n",
       "      <td>Straight Outta Compton</td>\n",
       "      <td>2015</td>\n",
       "      <td>$hutter</td>\n",
       "      <td>actor</td>\n",
       "      <td>Dopeman</td>\n",
       "      <td>NaN</td>\n",
       "    </tr>\n",
       "    <tr>\n",
       "      <th>7</th>\n",
       "      <td>For Thy Love 2</td>\n",
       "      <td>2009</td>\n",
       "      <td>Bee Moe $lim</td>\n",
       "      <td>actor</td>\n",
       "      <td>Thug 1</td>\n",
       "      <td>NaN</td>\n",
       "    </tr>\n",
       "    <tr>\n",
       "      <th>8</th>\n",
       "      <td>Lapis, Ballpen at Diploma, a True to Life Journey</td>\n",
       "      <td>2014</td>\n",
       "      <td>Jori ' Danilo' Jurado Jr.</td>\n",
       "      <td>actor</td>\n",
       "      <td>Jaime (young)</td>\n",
       "      <td>9.0</td>\n",
       "    </tr>\n",
       "    <tr>\n",
       "      <th>9</th>\n",
       "      <td>Desire (III)</td>\n",
       "      <td>2014</td>\n",
       "      <td>Syaiful 'Ariffin</td>\n",
       "      <td>actor</td>\n",
       "      <td>Actor Playing Eteocles from 'Antigone'</td>\n",
       "      <td>NaN</td>\n",
       "    </tr>\n",
       "  </tbody>\n",
       "</table>\n",
       "</div>"
      ],
      "text/plain": [
       "                                               title  year  \\\n",
       "0                                     Closet Monster  2015   \n",
       "1                                    Suuri illusioni  1985   \n",
       "2                                Battle of the Sexes  2017   \n",
       "3                               Secret in Their Eyes  2015   \n",
       "4                                         Steve Jobs  2015   \n",
       "5                             Straight Outta Compton  2015   \n",
       "6                             Straight Outta Compton  2015   \n",
       "7                                     For Thy Love 2  2009   \n",
       "8  Lapis, Ballpen at Diploma, a True to Life Journey  2014   \n",
       "9                                       Desire (III)  2014   \n",
       "\n",
       "                        name   type                               character  \\\n",
       "0                   Buffy #1  actor                                 Buffy 4   \n",
       "1                     Homo $  actor                                  Guests   \n",
       "2                    $hutter  actor                         Bobby Riggs Fan   \n",
       "3                    $hutter  actor                         2002 Dodger Fan   \n",
       "4                    $hutter  actor                 1988 Opera House Patron   \n",
       "5                    $hutter  actor                             Club Patron   \n",
       "6                    $hutter  actor                                 Dopeman   \n",
       "7               Bee Moe $lim  actor                                  Thug 1   \n",
       "8  Jori ' Danilo' Jurado Jr.  actor                           Jaime (young)   \n",
       "9           Syaiful 'Ariffin  actor  Actor Playing Eteocles from 'Antigone'   \n",
       "\n",
       "      n  \n",
       "0  31.0  \n",
       "1  22.0  \n",
       "2  10.0  \n",
       "3   NaN  \n",
       "4   NaN  \n",
       "5   NaN  \n",
       "6   NaN  \n",
       "7   NaN  \n",
       "8   9.0  \n",
       "9   NaN  "
      ]
     },
     "execution_count": 6,
     "metadata": {},
     "output_type": "execute_result"
    }
   ],
   "source": [
    "cast.head(10)"
   ]
  },
  {
   "attachments": {},
   "cell_type": "markdown",
   "metadata": {},
   "source": [
    "## Taking a look at the Release dataset\n",
    "\n",
    "This data shows details of when each movie was release in each country with the release date"
   ]
  },
  {
   "cell_type": "code",
   "execution_count": 7,
   "metadata": {},
   "outputs": [
    {
     "name": "stderr",
     "output_type": "stream",
     "text": [
      "/var/folders/7q/5kjp98215fjgwszmr0qgyr_m0000gn/T/ipykernel_60125/2196972783.py:1: FutureWarning: The argument 'infer_datetime_format' is deprecated and will be removed in a future version. A strict version of it is now the default, see https://pandas.pydata.org/pdeps/0004-consistent-to-datetime-parsing.html. You can safely remove this argument.\n",
      "  release_dates = pd.read_csv('release_dates.csv', parse_dates=['date'], infer_datetime_format=True)\n"
     ]
    },
    {
     "name": "stdout",
     "output_type": "stream",
     "text": [
      "<class 'pandas.core.frame.DataFrame'>\n",
      "RangeIndex: 479488 entries, 0 to 479487\n",
      "Data columns (total 4 columns):\n",
      " #   Column   Non-Null Count   Dtype         \n",
      "---  ------   --------------   -----         \n",
      " 0   title    479487 non-null  object        \n",
      " 1   year     479488 non-null  int64         \n",
      " 2   country  479488 non-null  object        \n",
      " 3   date     479488 non-null  datetime64[ns]\n",
      "dtypes: datetime64[ns](1), int64(1), object(2)\n",
      "memory usage: 14.6+ MB\n"
     ]
    }
   ],
   "source": [
    "release_dates = pd.read_csv('release_dates.csv', parse_dates=['date'], infer_datetime_format=True)\n",
    "release_dates.info()"
   ]
  },
  {
   "cell_type": "code",
   "execution_count": 8,
   "metadata": {},
   "outputs": [
    {
     "data": {
      "text/html": [
       "<div>\n",
       "<style scoped>\n",
       "    .dataframe tbody tr th:only-of-type {\n",
       "        vertical-align: middle;\n",
       "    }\n",
       "\n",
       "    .dataframe tbody tr th {\n",
       "        vertical-align: top;\n",
       "    }\n",
       "\n",
       "    .dataframe thead th {\n",
       "        text-align: right;\n",
       "    }\n",
       "</style>\n",
       "<table border=\"1\" class=\"dataframe\">\n",
       "  <thead>\n",
       "    <tr style=\"text-align: right;\">\n",
       "      <th></th>\n",
       "      <th>title</th>\n",
       "      <th>year</th>\n",
       "      <th>country</th>\n",
       "      <th>date</th>\n",
       "    </tr>\n",
       "  </thead>\n",
       "  <tbody>\n",
       "    <tr>\n",
       "      <th>0</th>\n",
       "      <td>#73, Shaanthi Nivaasa</td>\n",
       "      <td>2007</td>\n",
       "      <td>India</td>\n",
       "      <td>2007-06-15</td>\n",
       "    </tr>\n",
       "    <tr>\n",
       "      <th>1</th>\n",
       "      <td>#BKKY</td>\n",
       "      <td>2016</td>\n",
       "      <td>Cambodia</td>\n",
       "      <td>2017-10-12</td>\n",
       "    </tr>\n",
       "    <tr>\n",
       "      <th>2</th>\n",
       "      <td>#Beings</td>\n",
       "      <td>2015</td>\n",
       "      <td>Romania</td>\n",
       "      <td>2015-01-29</td>\n",
       "    </tr>\n",
       "    <tr>\n",
       "      <th>3</th>\n",
       "      <td>#Captured</td>\n",
       "      <td>2017</td>\n",
       "      <td>USA</td>\n",
       "      <td>2017-09-05</td>\n",
       "    </tr>\n",
       "    <tr>\n",
       "      <th>4</th>\n",
       "      <td>#Ewankosau saranghaeyo</td>\n",
       "      <td>2015</td>\n",
       "      <td>Philippines</td>\n",
       "      <td>2015-01-21</td>\n",
       "    </tr>\n",
       "  </tbody>\n",
       "</table>\n",
       "</div>"
      ],
      "text/plain": [
       "                    title  year      country       date\n",
       "0   #73, Shaanthi Nivaasa  2007        India 2007-06-15\n",
       "1                   #BKKY  2016     Cambodia 2017-10-12\n",
       "2                 #Beings  2015      Romania 2015-01-29\n",
       "3               #Captured  2017          USA 2017-09-05\n",
       "4  #Ewankosau saranghaeyo  2015  Philippines 2015-01-21"
      ]
     },
     "execution_count": 8,
     "metadata": {},
     "output_type": "execute_result"
    }
   ],
   "source": [
    "release_dates.head()"
   ]
  },
  {
   "attachments": {},
   "cell_type": "markdown",
   "metadata": {},
   "source": [
    "# Section I - Basic Querying, Filtering and Transformations"
   ]
  },
  {
   "attachments": {},
   "cell_type": "markdown",
   "metadata": {},
   "source": [
    "### What is the total number of movies?"
   ]
  },
  {
   "cell_type": "code",
   "execution_count": 9,
   "metadata": {},
   "outputs": [
    {
     "data": {
      "text/plain": [
       "244914"
      ]
     },
     "execution_count": 9,
     "metadata": {},
     "output_type": "execute_result"
    }
   ],
   "source": [
    "len(movies)"
   ]
  },
  {
   "attachments": {},
   "cell_type": "markdown",
   "metadata": {},
   "source": [
    "### List all Batman movies ever made"
   ]
  },
  {
   "cell_type": "code",
   "execution_count": 30,
   "metadata": {},
   "outputs": [
    {
     "name": "stdout",
     "output_type": "stream",
     "text": [
      "Total Batman Movies: 2\n",
      "<class 'pandas.core.frame.DataFrame'>\n"
     ]
    }
   ],
   "source": [
    "batman_df = movies[movies.title == 'Batman']\n",
    "print('Total Batman Movies:', len(batman_df))\n",
    "batman_df\n",
    "print(type(batman_df))"
   ]
  },
  {
   "attachments": {},
   "cell_type": "markdown",
   "metadata": {},
   "source": [
    "### List all Batman movies ever made - the right approach"
   ]
  },
  {
   "cell_type": "code",
   "execution_count": 32,
   "metadata": {},
   "outputs": [
    {
     "name": "stdout",
     "output_type": "stream",
     "text": [
      "Total Batman Movies: 35\n"
     ]
    },
    {
     "data": {
      "text/html": [
       "<div>\n",
       "<style scoped>\n",
       "    .dataframe tbody tr th:only-of-type {\n",
       "        vertical-align: middle;\n",
       "    }\n",
       "\n",
       "    .dataframe tbody tr th {\n",
       "        vertical-align: top;\n",
       "    }\n",
       "\n",
       "    .dataframe thead th {\n",
       "        text-align: right;\n",
       "    }\n",
       "</style>\n",
       "<table border=\"1\" class=\"dataframe\">\n",
       "  <thead>\n",
       "    <tr style=\"text-align: right;\">\n",
       "      <th></th>\n",
       "      <th>title</th>\n",
       "      <th>year</th>\n",
       "    </tr>\n",
       "  </thead>\n",
       "  <tbody>\n",
       "    <tr>\n",
       "      <th>16813</th>\n",
       "      <td>Batman: Anarchy</td>\n",
       "      <td>2016</td>\n",
       "    </tr>\n",
       "    <tr>\n",
       "      <th>30236</th>\n",
       "      <td>Batman Forever</td>\n",
       "      <td>1995</td>\n",
       "    </tr>\n",
       "    <tr>\n",
       "      <th>31674</th>\n",
       "      <td>Batman Untold</td>\n",
       "      <td>2010</td>\n",
       "    </tr>\n",
       "    <tr>\n",
       "      <th>31711</th>\n",
       "      <td>Scooby-Doo &amp; Batman: the Brave and the Bold</td>\n",
       "      <td>2018</td>\n",
       "    </tr>\n",
       "    <tr>\n",
       "      <th>41881</th>\n",
       "      <td>Batman the Rise of Red Hood</td>\n",
       "      <td>2018</td>\n",
       "    </tr>\n",
       "    <tr>\n",
       "      <th>43484</th>\n",
       "      <td>Batman: Return of the Caped Crusaders</td>\n",
       "      <td>2016</td>\n",
       "    </tr>\n",
       "    <tr>\n",
       "      <th>46333</th>\n",
       "      <td>Batman &amp; Robin</td>\n",
       "      <td>1997</td>\n",
       "    </tr>\n",
       "    <tr>\n",
       "      <th>51811</th>\n",
       "      <td>Batman Revealed</td>\n",
       "      <td>2012</td>\n",
       "    </tr>\n",
       "    <tr>\n",
       "      <th>52734</th>\n",
       "      <td>Batman</td>\n",
       "      <td>1943</td>\n",
       "    </tr>\n",
       "    <tr>\n",
       "      <th>56029</th>\n",
       "      <td>Batman Beyond: Rising Knight</td>\n",
       "      <td>2014</td>\n",
       "    </tr>\n",
       "  </tbody>\n",
       "</table>\n",
       "</div>"
      ],
      "text/plain": [
       "                                             title  year\n",
       "16813                              Batman: Anarchy  2016\n",
       "30236                               Batman Forever  1995\n",
       "31674                                Batman Untold  2010\n",
       "31711  Scooby-Doo & Batman: the Brave and the Bold  2018\n",
       "41881                  Batman the Rise of Red Hood  2018\n",
       "43484        Batman: Return of the Caped Crusaders  2016\n",
       "46333                               Batman & Robin  1997\n",
       "51811                              Batman Revealed  2012\n",
       "52734                                       Batman  1943\n",
       "56029                 Batman Beyond: Rising Knight  2014"
      ]
     },
     "execution_count": 32,
     "metadata": {},
     "output_type": "execute_result"
    }
   ],
   "source": [
    "#batman_df = movies[movies.title.str.contains('Batman', case=False)]\n",
    "#print('Total Batman Movies:', len(batman_df))\n",
    "#batman_df.head(10)\n",
    "\n",
    "#type(movies)\n",
    "#type(movies.title)\n",
    "#print(movies.title)\n",
    "\n",
    "#for x in movies.title:\n",
    "#    if x.find('Batman') >= 0:\n",
    "#        print(x)\n",
    "\n",
    "\n",
    "#batman title mask for movies series\n",
    "\n",
    "batman_df = movies[movies.title.str.find('Batman') >= 0]\n",
    "print('Total Batman Movies:', len(batman_df))\n",
    "batman_df.head(10)\n",
    "\n"
   ]
  },
  {
   "attachments": {},
   "cell_type": "markdown",
   "metadata": {},
   "source": [
    "### Display the top 15 Batman movies in the order they were released"
   ]
  },
  {
   "cell_type": "code",
   "execution_count": 33,
   "metadata": {},
   "outputs": [
    {
     "data": {
      "text/html": [
       "<div>\n",
       "<style scoped>\n",
       "    .dataframe tbody tr th:only-of-type {\n",
       "        vertical-align: middle;\n",
       "    }\n",
       "\n",
       "    .dataframe tbody tr th {\n",
       "        vertical-align: top;\n",
       "    }\n",
       "\n",
       "    .dataframe thead th {\n",
       "        text-align: right;\n",
       "    }\n",
       "</style>\n",
       "<table border=\"1\" class=\"dataframe\">\n",
       "  <thead>\n",
       "    <tr style=\"text-align: right;\">\n",
       "      <th></th>\n",
       "      <th>title</th>\n",
       "      <th>year</th>\n",
       "    </tr>\n",
       "  </thead>\n",
       "  <tbody>\n",
       "    <tr>\n",
       "      <th>52734</th>\n",
       "      <td>Batman</td>\n",
       "      <td>1943</td>\n",
       "    </tr>\n",
       "    <tr>\n",
       "      <th>100056</th>\n",
       "      <td>Batman and Robin</td>\n",
       "      <td>1949</td>\n",
       "    </tr>\n",
       "    <tr>\n",
       "      <th>161439</th>\n",
       "      <td>Batman Dracula</td>\n",
       "      <td>1964</td>\n",
       "    </tr>\n",
       "    <tr>\n",
       "      <th>84327</th>\n",
       "      <td>Alyas Batman at Robin</td>\n",
       "      <td>1965</td>\n",
       "    </tr>\n",
       "    <tr>\n",
       "      <th>68364</th>\n",
       "      <td>James Batman</td>\n",
       "      <td>1966</td>\n",
       "    </tr>\n",
       "    <tr>\n",
       "      <th>161527</th>\n",
       "      <td>Batman: The Movie</td>\n",
       "      <td>1966</td>\n",
       "    </tr>\n",
       "    <tr>\n",
       "      <th>56159</th>\n",
       "      <td>Batman Fights Dracula</td>\n",
       "      <td>1967</td>\n",
       "    </tr>\n",
       "    <tr>\n",
       "      <th>168504</th>\n",
       "      <td>Fight! Batman, Fight!</td>\n",
       "      <td>1973</td>\n",
       "    </tr>\n",
       "    <tr>\n",
       "      <th>150621</th>\n",
       "      <td>Batman</td>\n",
       "      <td>1989</td>\n",
       "    </tr>\n",
       "    <tr>\n",
       "      <th>156239</th>\n",
       "      <td>Alyas Batman en Robin</td>\n",
       "      <td>1991</td>\n",
       "    </tr>\n",
       "    <tr>\n",
       "      <th>156755</th>\n",
       "      <td>Batman Returns</td>\n",
       "      <td>1992</td>\n",
       "    </tr>\n",
       "    <tr>\n",
       "      <th>63366</th>\n",
       "      <td>Batman: Mask of the Phantasm</td>\n",
       "      <td>1993</td>\n",
       "    </tr>\n",
       "    <tr>\n",
       "      <th>30236</th>\n",
       "      <td>Batman Forever</td>\n",
       "      <td>1995</td>\n",
       "    </tr>\n",
       "    <tr>\n",
       "      <th>46333</th>\n",
       "      <td>Batman &amp; Robin</td>\n",
       "      <td>1997</td>\n",
       "    </tr>\n",
       "    <tr>\n",
       "      <th>208220</th>\n",
       "      <td>Batman Begins</td>\n",
       "      <td>2005</td>\n",
       "    </tr>\n",
       "  </tbody>\n",
       "</table>\n",
       "</div>"
      ],
      "text/plain": [
       "                               title  year\n",
       "52734                         Batman  1943\n",
       "100056              Batman and Robin  1949\n",
       "161439                Batman Dracula  1964\n",
       "84327          Alyas Batman at Robin  1965\n",
       "68364                   James Batman  1966\n",
       "161527             Batman: The Movie  1966\n",
       "56159          Batman Fights Dracula  1967\n",
       "168504         Fight! Batman, Fight!  1973\n",
       "150621                        Batman  1989\n",
       "156239         Alyas Batman en Robin  1991\n",
       "156755                Batman Returns  1992\n",
       "63366   Batman: Mask of the Phantasm  1993\n",
       "30236                 Batman Forever  1995\n",
       "46333                 Batman & Robin  1997\n",
       "208220                 Batman Begins  2005"
      ]
     },
     "execution_count": 33,
     "metadata": {},
     "output_type": "execute_result"
    }
   ],
   "source": [
    "batman_df.sort_values(by=['year'], ascending=True).iloc[:15]"
   ]
  },
  {
   "attachments": {},
   "cell_type": "markdown",
   "metadata": {},
   "source": [
    "### Section I - Q1 : List all the 'Harry Potter' movies from the most recent to the earliest"
   ]
  },
  {
   "cell_type": "code",
   "execution_count": 38,
   "metadata": {},
   "outputs": [
    {
     "name": "stdout",
     "output_type": "stream",
     "text": [
      "Total Harry Potter Movies: 8\n",
      "                                               title  year\n",
      "143147  Harry Potter and the Deathly Hallows: Part 2  2011\n",
      "152831  Harry Potter and the Deathly Hallows: Part 1  2010\n",
      "109213        Harry Potter and the Half-Blood Prince  2009\n",
      "50581      Harry Potter and the Order of the Phoenix  2007\n",
      "187926           Harry Potter and the Goblet of Fire  2005\n",
      "61957       Harry Potter and the Prisoner of Azkaban  2004\n",
      "82791        Harry Potter and the Chamber of Secrets  2002\n",
      "223087         Harry Potter and the Sorcerer's Stone  2001\n"
     ]
    }
   ],
   "source": [
    "harry_potter_df = movies[movies.title.str.find('Harry Potter') >= 0]\n",
    "print('Total Harry Potter Movies:', len(harry_potter_df))\n",
    "#print(harry_potter_df)\n",
    "\n",
    "print(harry_potter_df.sort_values(by=['year'], ascending=False))"
   ]
  },
  {
   "attachments": {},
   "cell_type": "markdown",
   "metadata": {},
   "source": [
    "### How many movies were made in the year 2017?"
   ]
  },
  {
   "cell_type": "code",
   "execution_count": 39,
   "metadata": {},
   "outputs": [
    {
     "data": {
      "text/plain": [
       "11474"
      ]
     },
     "execution_count": 39,
     "metadata": {},
     "output_type": "execute_result"
    }
   ],
   "source": [
    "len(movies[movies.year == 2017])"
   ]
  },
  {
   "attachments": {},
   "cell_type": "markdown",
   "metadata": {},
   "source": [
    "### Section I - Q2 : How many movies were made in the year 2015?"
   ]
  },
  {
   "cell_type": "code",
   "execution_count": 40,
   "metadata": {},
   "outputs": [
    {
     "data": {
      "text/plain": [
       "8702"
      ]
     },
     "execution_count": 40,
     "metadata": {},
     "output_type": "execute_result"
    }
   ],
   "source": [
    "len(movies[movies.year == 2015])"
   ]
  },
  {
   "attachments": {},
   "cell_type": "markdown",
   "metadata": {},
   "source": [
    "### Section I - Q3 : How many movies were made from 2000 till 2018?\n",
    "- You can chain multiple conditions using OR (`|`) as well as AND (`&`) depending on the condition"
   ]
  },
  {
   "cell_type": "code",
   "execution_count": 48,
   "metadata": {},
   "outputs": [
    {
     "data": {
      "text/plain": [
       "2779"
      ]
     },
     "execution_count": 48,
     "metadata": {},
     "output_type": "execute_result"
    }
   ],
   "source": [
    "len(movies[(movies.year >= 2000) & (movies.year <= 2018)])\n",
    "\n"
   ]
  },
  {
   "attachments": {},
   "cell_type": "markdown",
   "metadata": {},
   "source": [
    "### Section I - Q4: How many movies are titled \"Hamlet\"?"
   ]
  },
  {
   "cell_type": "code",
   "execution_count": 50,
   "metadata": {},
   "outputs": [
    {
     "data": {
      "text/plain": [
       "20"
      ]
     },
     "execution_count": 50,
     "metadata": {},
     "output_type": "execute_result"
    }
   ],
   "source": [
    "len(movies[movies.title == \"Hamlet\"])"
   ]
  },
  {
   "attachments": {},
   "cell_type": "markdown",
   "metadata": {},
   "source": [
    "### Section I - Q5: List all movies titled \"Hamlet\" \n",
    "- The movies should only have been released on or after the year 2000\n",
    "- Display the movies based on the year they were released (earliest to most recent)"
   ]
  },
  {
   "cell_type": "code",
   "execution_count": 55,
   "metadata": {},
   "outputs": [
    {
     "name": "stdout",
     "output_type": "stream",
     "text": [
      "         title  year\n",
      "55639   Hamlet  2000\n",
      "1931    Hamlet  2009\n",
      "227953  Hamlet  2011\n",
      "178290  Hamlet  2014\n",
      "186137  Hamlet  2015\n",
      "191940  Hamlet  2016\n",
      "244747  Hamlet  2017\n"
     ]
    }
   ],
   "source": [
    "print(movies[(movies.title == \"Hamlet\") & (movies.year >= 2000)].sort_values(by=['year'], ascending=True))"
   ]
  },
  {
   "attachments": {},
   "cell_type": "markdown",
   "metadata": {},
   "source": [
    "### Section I - Q6: How many roles in the movie \"Inception\" are of the supporting cast (extra credits)\n",
    "- supporting cast are NOT ranked by an \"n\" value (NaN)\n",
    "- check for how to filter based on nulls"
   ]
  },
  {
   "cell_type": "code",
   "execution_count": 80,
   "metadata": {},
   "outputs": [
    {
     "name": "stdout",
     "output_type": "stream",
     "text": [
      "27\n"
     ]
    }
   ],
   "source": [
    "#cast.info()\n",
    "#print(cast.head(10))\n",
    "roles_df = cast[cast.title == \"Inception\"]\n",
    "#print(roles_df.head(10))\n",
    "#len(roles_df)\n",
    "#print(roles_df.n.unique())\n",
    "#len(roles_df.n.isnull())\n",
    "roles_extra_df = roles_df[roles_df.n.isnull()]\n",
    "print(len(roles_extra_df))\n",
    "#print(roles_extra_df.head(10))"
   ]
  },
  {
   "attachments": {},
   "cell_type": "markdown",
   "metadata": {},
   "source": [
    "### Section I - Q7: How many roles in the movie \"Inception\" are of the main cast\n",
    "- main cast always have an 'n' value"
   ]
  },
  {
   "cell_type": "code",
   "execution_count": 89,
   "metadata": {},
   "outputs": [
    {
     "name": "stdout",
     "output_type": "stream",
     "text": [
      "51\n"
     ]
    }
   ],
   "source": [
    "#print(roles_df.n.unique())\n",
    "main_roles_df = roles_df[roles_df.n > 0]\n",
    "print(len(main_roles_df))\n",
    "#print(main_roles_df)\n"
   ]
  },
  {
   "attachments": {},
   "cell_type": "markdown",
   "metadata": {},
   "source": [
    "### Section I - Q8: Show the top ten cast (actors\\actresses) in the movie \"Inception\" \n",
    "- main cast always have an 'n' value\n",
    "- remember to sort!"
   ]
  },
  {
   "cell_type": "code",
   "execution_count": 92,
   "metadata": {},
   "outputs": [
    {
     "name": "stdout",
     "output_type": "stream",
     "text": [
      "             title  year                  name     type        character     n\n",
      "590576   Inception  2010     Leonardo DiCaprio    actor             Cobb   1.0\n",
      "859993   Inception  2010  Joseph Gordon-Levitt    actor           Arthur   2.0\n",
      "3387147  Inception  2010            Ellen Page  actress          Ariadne   3.0\n",
      "940923   Inception  2010             Tom Hardy    actor            Eames   4.0\n",
      "2406531  Inception  2010          Ken Watanabe    actor            Saito   5.0\n",
      "1876301  Inception  2010            Dileep Rao    actor            Yusuf   6.0\n",
      "1615709  Inception  2010        Cillian Murphy    actor   Robert Fischer   7.0\n",
      "183937   Inception  2010          Tom Berenger    actor         Browning   8.0\n",
      "2765969  Inception  2010      Marion Cotillard  actress              Mal   9.0\n",
      "1826027  Inception  2010    Pete Postlethwaite    actor  Maurice Fischer  10.0\n"
     ]
    }
   ],
   "source": [
    "print(main_roles_df.sort_values(by=['n'], ascending=True).iloc[:10])"
   ]
  },
  {
   "attachments": {},
   "cell_type": "markdown",
   "metadata": {},
   "source": [
    "### Section I - Q9:\n",
    "\n",
    "(A) List all movies where there was a character 'Albus Dumbledore' \n",
    "\n",
    "(B) Now modify the above to show only the actors who played the character 'Albus Dumbledore'\n",
    "- For Part (B) remember the same actor might play the same role in multiple movies"
   ]
  },
  {
   "cell_type": "code",
   "execution_count": 95,
   "metadata": {},
   "outputs": [
    {
     "name": "stdout",
     "output_type": "stream",
     "text": [
      "8\n",
      "                                             title  year                 name  \\\n",
      "704984                                  Epic Movie  2007         Dane Farwell   \n",
      "792421         Harry Potter and the Goblet of Fire  2005       Michael Gambon   \n",
      "792423   Harry Potter and the Order of the Phoenix  2007       Michael Gambon   \n",
      "792424    Harry Potter and the Prisoner of Azkaban  2004       Michael Gambon   \n",
      "947789     Harry Potter and the Chamber of Secrets  2002       Richard Harris   \n",
      "947790       Harry Potter and the Sorcerer's Stone  2001       Richard Harris   \n",
      "1685537                      Ultimate Hero Project  2013  George (X) O'Connor   \n",
      "2248085                                     Potter  2015    Timothy Tedmanson   \n",
      "\n",
      "          type         character     n  \n",
      "704984   actor  Albus Dumbledore  17.0  \n",
      "792421   actor  Albus Dumbledore  37.0  \n",
      "792423   actor  Albus Dumbledore  36.0  \n",
      "792424   actor  Albus Dumbledore  27.0  \n",
      "947789   actor  Albus Dumbledore  32.0  \n",
      "947790   actor  Albus Dumbledore   1.0  \n",
      "1685537  actor  Albus Dumbledore   NaN  \n",
      "2248085  actor  Albus Dumbledore   NaN  \n"
     ]
    }
   ],
   "source": [
    "cast_ad_df = cast[cast.character == \"Albus Dumbledore\"]\n",
    "print(len(cast_ad_df))\n",
    "print(cast_ad_df)\n"
   ]
  },
  {
   "cell_type": "code",
   "execution_count": 102,
   "metadata": {},
   "outputs": [
    {
     "name": "stdout",
     "output_type": "stream",
     "text": [
      "['Dane Farwell' 'Michael Gambon' 'Richard Harris' \"George (X) O'Connor\"\n",
      " 'Timothy Tedmanson']\n"
     ]
    }
   ],
   "source": [
    "# Part B\n",
    "print(cast_ad_df.name.unique())\n",
    "\n"
   ]
  },
  {
   "attachments": {},
   "cell_type": "markdown",
   "metadata": {},
   "source": [
    "### Section I - Q10:\n",
    "\n",
    "(A) How many roles has 'Keanu Reeves' played throughout his career?\n",
    "\n",
    "(B) List the leading roles that 'Keanu Reeves' played on or after 1999 in order by year."
   ]
  },
  {
   "cell_type": "code",
   "execution_count": 110,
   "metadata": {},
   "outputs": [
    {
     "name": "stdout",
     "output_type": "stream",
     "text": [
      "62\n"
     ]
    }
   ],
   "source": [
    "cast_kr_df = cast[cast.name == \"Keanu Reeves\"]\n",
    "print(len(cast_kr_df))\n",
    "#print(cast_kr_df)\n"
   ]
  },
  {
   "cell_type": "code",
   "execution_count": 111,
   "metadata": {},
   "outputs": [
    {
     "name": "stdout",
     "output_type": "stream",
     "text": [
      "                                 title  year          name   type  \\\n",
      "1892390                     The Matrix  1999  Keanu Reeves  actor   \n",
      "1892397               The Replacements  2000  Keanu Reeves  actor   \n",
      "1892358                      Hard Ball  2001  Keanu Reeves  actor   \n",
      "1892383                 Sweet November  2001  Keanu Reeves  actor   \n",
      "1892348                    Constantine  2005  Keanu Reeves  actor   \n",
      "1892388                 The Lake House  2006  Keanu Reeves  actor   \n",
      "1892382                   Street Kings  2008  Keanu Reeves  actor   \n",
      "1892385  The Day the Earth Stood Still  2008  Keanu Reeves  actor   \n",
      "1892359                  Henry's Crime  2010  Keanu Reeves  actor   \n",
      "1892342                       47 Ronin  2013  Keanu Reeves  actor   \n",
      "1892361                      John Wick  2014  Keanu Reeves  actor   \n",
      "1892366                    Knock Knock  2015  Keanu Reeves  actor   \n",
      "1892399                The Whole Truth  2016  Keanu Reeves  actor   \n",
      "1892362           John Wick: Chapter 2  2017  Keanu Reeves  actor   \n",
      "1892378                        Siberia  2018  Keanu Reeves  actor   \n",
      "\n",
      "                    character    n  \n",
      "1892390                   Neo  1.0  \n",
      "1892397           Shane Falco  1.0  \n",
      "1892358         Conor O'Neill  1.0  \n",
      "1892383           Nelson Moss  1.0  \n",
      "1892348      John Constantine  1.0  \n",
      "1892388            Alex Wyler  1.0  \n",
      "1892382  Detective Tom Ludlow  1.0  \n",
      "1892385                Klaatu  1.0  \n",
      "1892359           Henry Torne  1.0  \n",
      "1892342                   Kai  1.0  \n",
      "1892361             John Wick  1.0  \n",
      "1892366                  Evan  1.0  \n",
      "1892399                Ramsey  1.0  \n",
      "1892362             John Wick  1.0  \n",
      "1892378            Lucas Hill  1.0  \n"
     ]
    }
   ],
   "source": [
    "print(cast_kr_df[(cast_kr_df.n == 1) & (cast_kr_df.year >= 1999)].sort_values(by=['year'], ascending=True))"
   ]
  },
  {
   "attachments": {},
   "cell_type": "markdown",
   "metadata": {},
   "source": [
    "### Section I - Q11: \n",
    "\n",
    "(A) List the total number of actor and actress roles available from 1950 - 1960\n",
    "\n",
    "(B) List the total number of actor and actress roles available from 2007 - 2017"
   ]
  },
  {
   "cell_type": "code",
   "execution_count": 117,
   "metadata": {},
   "outputs": [
    {
     "data": {
      "text/plain": [
       "234635"
      ]
     },
     "execution_count": 117,
     "metadata": {},
     "output_type": "execute_result"
    }
   ],
   "source": [
    "len(cast[(cast.year >= 1950) & (cast.year <=1960)])   "
   ]
  },
  {
   "cell_type": "code",
   "execution_count": 118,
   "metadata": {},
   "outputs": [
    {
     "data": {
      "text/plain": [
       "1452413"
      ]
     },
     "execution_count": 118,
     "metadata": {},
     "output_type": "execute_result"
    }
   ],
   "source": [
    "len(cast[(cast.year >= 2007) & (cast.year <=2017)])   "
   ]
  },
  {
   "attachments": {},
   "cell_type": "markdown",
   "metadata": {},
   "source": [
    "### Section I - Q12: \n",
    "\n",
    "(A) List the total number of leading roles available from 2000 to present\n",
    "\n",
    "(B) List the total number of non-leading roles available from 2000 - present (exclude support cast)\n",
    "\n",
    "(C) List the total number of support\\extra-credit roles available from 2000 - present"
   ]
  },
  {
   "cell_type": "code",
   "execution_count": 120,
   "metadata": {},
   "outputs": [
    {
     "name": "stdout",
     "output_type": "stream",
     "text": [
      "                          title  year              name     type  \\\n",
      "102      Live Freaky Die Freaky  2006           Nick 13    actor   \n",
      "138       All Things Fall Apart  2011           50 Cent    actor   \n",
      "144                 Freelancers  2012           50 Cent    actor   \n",
      "145      Get Rich or Die Tryin'  2005           50 Cent    actor   \n",
      "146                         Gun  2010           50 Cent    actor   \n",
      "...                         ...   ...               ...      ...   \n",
      "3785795                     120  2008       ?zge ?zberk  actress   \n",
      "3785893                      6A  2016       Emine ?zkan  actress   \n",
      "3785961                  Kadife  2012      Ayta? ?ztuna  actress   \n",
      "3786008              Dig og mig  2008  Julie R. ?lgaard  actress   \n",
      "3786011    Fortune Defies Death  2017  Julie R. ?lgaard  actress   \n",
      "\n",
      "              character    n  \n",
      "102      TV Reporter #1  1.0  \n",
      "138                Deon  1.0  \n",
      "144                Malo  1.0  \n",
      "145              Marcus  1.0  \n",
      "146                Rich  1.0  \n",
      "...                 ...  ...  \n",
      "3785795          M?nire  1.0  \n",
      "3785893          Denise  1.0  \n",
      "3785961      Kadife Ana  1.0  \n",
      "3786008       Stephanie  1.0  \n",
      "3786011       Katharine  1.0  \n",
      "\n",
      "[60568 rows x 6 columns]\n"
     ]
    }
   ],
   "source": [
    "print(cast[(cast.year >= 2000) & (cast.n == 1)])"
   ]
  },
  {
   "cell_type": "code",
   "execution_count": 129,
   "metadata": {},
   "outputs": [
    {
     "name": "stdout",
     "output_type": "stream",
     "text": [
      "                                                     title  year  \\\n",
      "0                                           Closet Monster  2015   \n",
      "2                                      Battle of the Sexes  2017   \n",
      "8        Lapis, Ballpen at Diploma, a True to Life Journey  2014   \n",
      "10                                 When the Man Went South  2014   \n",
      "11                                 Little Angel (Angelita)  2015   \n",
      "...                                                    ...   ...   \n",
      "3786163                                  Beowulf & Grendel  2005   \n",
      "3786164                                               Eden  2018   \n",
      "3786169                   Niceland (Population. 1.000.002)  2004   \n",
      "3786172                   Niceland (Population. 1.000.002)  2004   \n",
      "3786174                                       U.S.S.S.S...  2003   \n",
      "\n",
      "                                   name     type               character     n  \n",
      "0                              Buffy #1    actor                 Buffy 4  31.0  \n",
      "2                               $hutter    actor         Bobby Riggs Fan  10.0  \n",
      "8             Jori ' Danilo' Jurado Jr.    actor           Jaime (young)   9.0  \n",
      "10                   Taipaleti 'Atu'ake    actor  Two Palms - Ua'i Paame   8.0  \n",
      "11           Michael 'babeepower' Viera    actor                   Chico   9.0  \n",
      "...                                 ...      ...                     ...   ...  \n",
      "3786163  Steinunn ?l?na ?orsteinsd?ttir  actress               Wealtheow  15.0  \n",
      "3786164  Steinunn ?l?na ?orsteinsd?ttir  actress             M??ir Viggu   8.0  \n",
      "3786169         Steinunn ?orvaldsd?ttir  actress          Factory Worker  21.0  \n",
      "3786172       Sigr??ur J?na ??risd?ttir  actress            Woman in Bus  26.0  \n",
      "3786174     Krist?n Andrea ??r?ard?ttir  actress  Afgr.dama ? bens?nst??  17.0  \n",
      "\n",
      "[1001710 rows x 6 columns]\n"
     ]
    }
   ],
   "source": [
    "#(B) List the total number of non-leading roles available from 2000 - present (exclude support cast)\n",
    "\n",
    "print(cast[(cast.year >= 2000) & (cast.n.notnull()) & (cast.n != 1)])"
   ]
  },
  {
   "cell_type": "code",
   "execution_count": 130,
   "metadata": {},
   "outputs": [
    {
     "name": "stdout",
     "output_type": "stream",
     "text": [
      "                          title  year                         name     type  \\\n",
      "3          Secret in Their Eyes  2015                      $hutter    actor   \n",
      "4                    Steve Jobs  2015                      $hutter    actor   \n",
      "5        Straight Outta Compton  2015                      $hutter    actor   \n",
      "6        Straight Outta Compton  2015                      $hutter    actor   \n",
      "7                For Thy Love 2  2009                 Bee Moe $lim    actor   \n",
      "...                         ...   ...                          ...      ...   \n",
      "3786159                Eldfjall  2011      Katla M. ?orgeirsd?ttir  actress   \n",
      "3786160               Svanurinn  2017      Katla M. ?orgeirsd?ttir  actress   \n",
      "3786166               Foreldrar  2007  Lilja Gu?r?n ?orvaldsd?ttir  actress   \n",
      "3786167                 Rokland  2011  Lilja Gu?r?n ?orvaldsd?ttir  actress   \n",
      "3786168                      XL  2013  Lilja Gu?r?n ?orvaldsd?ttir  actress   \n",
      "\n",
      "                          character   n  \n",
      "3                   2002 Dodger Fan NaN  \n",
      "4           1988 Opera House Patron NaN  \n",
      "5                       Club Patron NaN  \n",
      "6                           Dopeman NaN  \n",
      "7                            Thug 1 NaN  \n",
      "...                             ...  ..  \n",
      "3786159                  Home Nurse NaN  \n",
      "3786160                        ?l?f NaN  \n",
      "3786166                Katrin Eldri NaN  \n",
      "3786167  A?albj?rg - Dagga's Mother NaN  \n",
      "3786168                 Tengdamamma NaN  \n",
      "\n",
      "[887484 rows x 6 columns]\n"
     ]
    }
   ],
   "source": [
    "#(C) List the total number of support\\extra-credit roles available from 2000 - present\n",
    "\n",
    "print(cast[(cast.year >= 2000) & (cast.n.isnull())])"
   ]
  },
  {
   "attachments": {},
   "cell_type": "markdown",
   "metadata": {},
   "source": [
    "# Section II - Aggregations, Transformations and Visualizations"
   ]
  },
  {
   "attachments": {},
   "cell_type": "markdown",
   "metadata": {},
   "source": [
    "## What are the top ten most common movie names of all time?\n"
   ]
  },
  {
   "cell_type": "code",
   "execution_count": 131,
   "metadata": {},
   "outputs": [
    {
     "data": {
      "text/plain": [
       "title\n",
       "Hamlet                  20\n",
       "Carmen                  17\n",
       "Macbeth                 16\n",
       "Temptation              12\n",
       "The Outsider            12\n",
       "Maya                    12\n",
       "The Three Musketeers    11\n",
       "Othello                 11\n",
       "Freedom                 11\n",
       "Honeymoon               11\n",
       "Name: count, dtype: int64"
      ]
     },
     "execution_count": 131,
     "metadata": {},
     "output_type": "execute_result"
    }
   ],
   "source": [
    "top_ten = movies.title.value_counts()[:10]\n",
    "top_ten"
   ]
  },
  {
   "attachments": {},
   "cell_type": "markdown",
   "metadata": {},
   "source": [
    "### Plot the top ten common movie names of all time"
   ]
  },
  {
   "cell_type": "code",
   "execution_count": 132,
   "metadata": {},
   "outputs": [
    {
     "data": {
      "text/plain": [
       "<Axes: ylabel='title'>"
      ]
     },
     "execution_count": 132,
     "metadata": {},
     "output_type": "execute_result"
    },
    {
     "data": {
      "image/png": "[encoded data removed]",
      "text/plain": [
       "<Figure size 640x480 with 1 Axes>"
      ]
     },
     "metadata": {},
     "output_type": "display_data"
    }
   ],
   "source": [
    "top_ten.plot(kind='barh')"
   ]
  },
  {
   "attachments": {},
   "cell_type": "markdown",
   "metadata": {},
   "source": [
    "### Section II - Q1:  Which years in the 2000s saw the most movies released? (Show top 3)"
   ]
  },
  {
   "cell_type": "code",
   "execution_count": 165,
   "metadata": {},
   "outputs": [
    {
     "name": "stdout",
     "output_type": "stream",
     "text": [
      "date\n",
      "2016    18135\n",
      "2015    17291\n",
      "2017    17284\n",
      "Name: count, dtype: int64\n"
     ]
    }
   ],
   "source": [
    "#release_dates = pd.read_csv('release_dates.csv', parse_dates=['date'], infer_datetime_format=True)\n",
    "#release_dates.info()\n",
    "\n",
    "release_dates_2000 = release_dates[release_dates.date.dt.year >= 2000]\n",
    "\n",
    "top3_released = release_dates_2000['date'].dt.year.value_counts()[:3]\n",
    "\n",
    "\n",
    "print(top3_released)"
   ]
  },
  {
   "attachments": {},
   "cell_type": "markdown",
   "metadata": {},
   "source": [
    "### Section II - Q2: # Plot the total number of films released per-decade (1890, 1900, 1910,....)\n",
    "- Hint: Dividing the year and multiplying with a number might give you the decade the year falls into!\n",
    "- You might need to sort before plotting"
   ]
  },
  {
   "cell_type": "code",
   "execution_count": 196,
   "metadata": {},
   "outputs": [
    {
     "data": {
      "text/plain": [
       "<Axes: xlabel='Decade'>"
      ]
     },
     "execution_count": 196,
     "metadata": {},
     "output_type": "execute_result"
    },
    {
     "data": {
      "image/png": "[encoded data removed]",
      "text/plain": [
       "<Figure size 640x480 with 1 Axes>"
      ]
     },
     "metadata": {},
     "output_type": "display_data"
    }
   ],
   "source": [
    "#print(release_dates[(release_dates.date.dt.year >= 1890) & (release_dates.date.dt.year < 1900)])\n",
    "\n",
    "release_decade_df = {'Decade': [], 'Count': []}\n",
    "\n",
    "for decade in range(1890, 2030, 10):\n",
    "    fdecade = decade + 10\n",
    "   # print(decade , fdecade, release_dates[(release_dates.date.dt.year >= decade) & (release_dates.date.dt.year < fdecade)].year.count())\n",
    "    release_decade_df['Decade'].append(str(decade) + '-' + str(fdecade))\n",
    "    release_decade_df['Count'].append(release_dates[(release_dates.date.dt.year >= decade) & (release_dates.date.dt.year < fdecade)].year.count())\n",
    "    \n",
    "toPlot = pd.DataFrame(release_decade_df)\n",
    "\n",
    "toPlot.plot(kind='bar', x='Decade', y='Count')\n",
    "\n"
   ]
  },
  {
   "attachments": {},
   "cell_type": "markdown",
   "metadata": {},
   "source": [
    "### Section II - Q3: \n",
    "\n",
    "(A) What are the top 10 most common character names in movie history?\n",
    "\n",
    "(B) Who are the top 10 people most often credited as \"Herself\" in movie history?\n",
    "\n",
    "(C) Who are the top 10 people most often credited as \"Himself\" in movie history?"
   ]
  },
  {
   "cell_type": "code",
   "execution_count": 197,
   "metadata": {},
   "outputs": [
    {
     "name": "stdout",
     "output_type": "stream",
     "text": [
      "character\n",
      "Himself        20746\n",
      "Dancer         12477\n",
      "Extra          11948\n",
      "Reporter        8434\n",
      "Student         7773\n",
      "Doctor          7669\n",
      "Party Guest     7245\n",
      "Policeman       7029\n",
      "Nurse           6999\n",
      "Bartender       6802\n",
      "Name: count, dtype: int64\n"
     ]
    }
   ],
   "source": [
    "# (A) What are the top 10 most common character names in movie history?\n",
    "\n",
    "print(cast.character.value_counts()[:10])"
   ]
  },
  {
   "cell_type": "code",
   "execution_count": 198,
   "metadata": {},
   "outputs": [
    {
     "name": "stdout",
     "output_type": "stream",
     "text": [
      "name\n",
      "Queen Elizabeth II           12\n",
      "Joyce Brothers                9\n",
      "Luisa Horga                   9\n",
      "Mar?a Luisa (V) Mart?n        9\n",
      "Margaret Thatcher             8\n",
      "Hillary Clinton               8\n",
      "In?s J. Southern              6\n",
      "Mar?a Isabel (III) Mart?n     6\n",
      "Marta Berrocal                6\n",
      "Sumie Sakai                   6\n",
      "Name: count, dtype: int64\n"
     ]
    }
   ],
   "source": [
    "# (B) Who are the top 10 people most often credited as \"Herself\" in movie history?\n",
    "\n",
    "print(cast[cast.character == 'Herself'].name.value_counts()[:10])"
   ]
  },
  {
   "cell_type": "code",
   "execution_count": 199,
   "metadata": {},
   "outputs": [
    {
     "name": "stdout",
     "output_type": "stream",
     "text": [
      "name\n",
      "Adolf Hitler             99\n",
      "Richard Nixon            44\n",
      "Ronald Reagan            41\n",
      "John F. Kennedy          37\n",
      "George W. Bush           25\n",
      "Winston Churchill        24\n",
      "Martin Luther King       23\n",
      "Ron Jeremy               22\n",
      "Bill Clinton             22\n",
      "Franklin D. Roosevelt    21\n",
      "Name: count, dtype: int64\n"
     ]
    }
   ],
   "source": [
    "#(C) Who are the top 10 people most often credited as \"Himself\" in movie history?\n",
    "\n",
    "print(cast[cast.character == 'Himself'].name.value_counts()[:10])"
   ]
  },
  {
   "attachments": {},
   "cell_type": "markdown",
   "metadata": {},
   "source": [
    "### Section II - Q4: \n",
    "\n",
    "(A) What are the top 10 most frequent roles that start with the word \"Zombie\"?\n",
    "\n",
    "(B) What are the top 10 most frequent roles that start with the word \"Police\"?\n",
    "\n",
    "- Hint: The `startswith()` function might be useful"
   ]
  },
  {
   "cell_type": "code",
   "execution_count": 216,
   "metadata": {},
   "outputs": [
    {
     "name": "stdout",
     "output_type": "stream",
     "text": [
      "character\n",
      "Zombie                         6264\n",
      "Zombie Horde                    206\n",
      "Zombie - Protestor - Victim      78\n",
      "Zombie Extra                     70\n",
      "Zombie Dancer                    43\n",
      "Zombie Girl                      36\n",
      "Zombie #1                        36\n",
      "Zombie #2                        31\n",
      "Zombie Vampire                   25\n",
      "Zombie Victim                    22\n",
      "Name: count, dtype: int64\n"
     ]
    }
   ],
   "source": [
    "#(A) What are the top 10 most frequent roles that start with the word \"Zombie\"?\n",
    "\n",
    "#print(cast[cast.character.str.startswith('Zombie')].character.value_counts()[:10])\n",
    "\n",
    "print(cast[cast.character.str.startswith(\"Zombie\") & cast.character.notnull()].character.value_counts()[:10])\n"
   ]
  },
  {
   "cell_type": "code",
   "execution_count": 217,
   "metadata": {},
   "outputs": [
    {
     "name": "stdout",
     "output_type": "stream",
     "text": [
      "character\n",
      "Policeman              7029\n",
      "Police Officer         4808\n",
      "Police Inspector        742\n",
      "Police Sergeant         674\n",
      "Police officer          539\n",
      "Police                  456\n",
      "Policewoman             415\n",
      "Police Chief            410\n",
      "Police Captain          387\n",
      "Police Commissioner     337\n",
      "Name: count, dtype: int64\n"
     ]
    }
   ],
   "source": [
    "# (B) What are the top 10 most frequent roles that start with the word \"Police\"?\n",
    "print(cast[cast.character.str.startswith(\"Police\") & cast.character.notnull()].character.value_counts()[:10])"
   ]
  },
  {
   "attachments": {},
   "cell_type": "markdown",
   "metadata": {},
   "source": [
    "### Section II - Q5: Plot how many roles 'Keanu Reeves' has played in each year of his career."
   ]
  },
  {
   "cell_type": "code",
   "execution_count": 233,
   "metadata": {},
   "outputs": [
    {
     "data": {
      "text/plain": [
       "<Axes: xlabel='year'>"
      ]
     },
     "execution_count": 233,
     "metadata": {},
     "output_type": "execute_result"
    },
    {
     "data": {
      "image/png": "[encoded data removed]",
      "text/plain": [
       "<Figure size 640x480 with 1 Axes>"
      ]
     },
     "metadata": {},
     "output_type": "display_data"
    }
   ],
   "source": [
    "# Plot how many roles 'Keanu Reeves' has played in each year of his career.\n",
    "\n",
    "cast[cast.name == 'Keanu Reeves'].year.value_counts().sort_index().plot(kind='bar')\n"
   ]
  },
  {
   "attachments": {},
   "cell_type": "markdown",
   "metadata": {},
   "source": [
    "### Section II - Q6: Plot the cast positions (n-values) of Keanu Reeve's roles through his career over the years.\n"
   ]
  },
  {
   "cell_type": "code",
   "execution_count": 248,
   "metadata": {},
   "outputs": [
    {
     "data": {
      "text/plain": [
       "<Axes: xlabel='year', ylabel='n'>"
      ]
     },
     "execution_count": 248,
     "metadata": {},
     "output_type": "execute_result"
    },
    {
     "data": {
      "image/png": "[encoded data removed]",
      "text/plain": [
       "<Figure size 640x480 with 1 Axes>"
      ]
     },
     "metadata": {},
     "output_type": "display_data"
    }
   ],
   "source": [
    "# Q6: Plot the cast positions (n-values) of Keanu Reeve's roles through his career over the years.\n",
    "\n",
    "#cast[cast.name == 'Keanu Reeves']\n",
    "\n",
    "cast[cast.name == 'Keanu Reeves'].plot(kind='scatter', x='year', y='n')\n",
    "\n",
    "#cast[cast.name == 'Keanu Reeves'].sort_values(by=['n'], ascending=True)"
   ]
  },
  {
   "attachments": {},
   "cell_type": "markdown",
   "metadata": {},
   "source": [
    "### Section II - Q7: Plot the number of \"Hamlet\" films made by each decade"
   ]
  },
  {
   "cell_type": "code",
   "execution_count": 276,
   "metadata": {},
   "outputs": [
    {
     "data": {
      "text/plain": [
       "<Axes: xlabel='Decade'>"
      ]
     },
     "execution_count": 276,
     "metadata": {},
     "output_type": "execute_result"
    },
    {
     "data": {
      "image/png": "[encoded data removed]",
      "text/plain": [
       "<Figure size 640x480 with 1 Axes>"
      ]
     },
     "metadata": {},
     "output_type": "display_data"
    }
   ],
   "source": [
    "#  Plot the number of \"Hamlet\" films made by each decade\n",
    "# print(release_dates[release_dates.title == 'Hamlet'].sort_values(by=['year'], ascending=True).head(1).year.values[0]) // first year movie was made\n",
    "init_decade = release_dates[release_dates.title == 'Hamlet'].sort_values(by=['year'], ascending=True).head(1).year.values[0]\n",
    "end_decade = release_dates[release_dates.title == 'Hamlet'].sort_values(by=['year'], ascending=False).head(1).year.values[0]\n",
    "\n",
    "init_decade = round(init_decade/10)*10\n",
    "end_decade = round(end_decade/10)*10\n",
    "\n",
    "#print(init_decade, end_decade)\n",
    "\n",
    "hamlet_df = {'Decade': [], 'Count': []}\n",
    "\n",
    "for decade in range(init_decade, end_decade, 10):\n",
    "    #print(str(decade) + ' : - ' + str(release_dates[(release_dates.title == 'Hamlet') & (release_dates.year >= decade) & (release_dates.year < decade + 10)].year.count()))\n",
    "    hamlet_df['Decade'].append(str(decade) + '-' + str(decade + 10))\n",
    "    hamlet_df['Count'].append(release_dates[(release_dates.title == 'Hamlet') & (release_dates.year >= decade) & (release_dates.year < decade + 10)].year.count())\n",
    "\n",
    "hamlet_df = pd.DataFrame(hamlet_df)\n",
    "\n",
    "hamlet_df.plot(kind='bar', x='Decade', y='Count')\n"
   ]
  },
  {
   "attachments": {},
   "cell_type": "markdown",
   "metadata": {},
   "source": [
    "### Section II - Q8: \n",
    "\n",
    "(A) How many leading roles were available to both actors and actresses, in the 1960s (1960-1969)?\n",
    "\n",
    "(B) How many leading roles were available to both actors and actresses, in the 2000s (2000-2009)?\n",
    "\n",
    "- Hint: A specific value of n might indicate a leading role"
   ]
  },
  {
   "cell_type": "code",
   "execution_count": 277,
   "metadata": {},
   "outputs": [
    {
     "name": "stdout",
     "output_type": "stream",
     "text": [
      "type\n",
      "actor      8320\n",
      "actress    3503\n",
      "Name: count, dtype: int64\n"
     ]
    }
   ],
   "source": [
    "#How many leading roles were available to both actors and actresses, in the 1960s (1960-1969)? n = 1\n",
    "\n",
    "print(cast[(cast.year >= 1960) & (cast.year <= 1969) & (cast.n == 1)].type.value_counts())"
   ]
  },
  {
   "cell_type": "code",
   "execution_count": 278,
   "metadata": {},
   "outputs": [
    {
     "name": "stdout",
     "output_type": "stream",
     "text": [
      "type\n",
      "actor      18557\n",
      "actress     7787\n",
      "Name: count, dtype: int64\n"
     ]
    }
   ],
   "source": [
    "#How many leading roles were available to both actors and actresses, in the 2000s (2000-2009)? n = 1 \n",
    "print(cast[(cast.year >= 2000) & (cast.year <= 2009) & (cast.n == 1)].type.value_counts())"
   ]
  },
  {
   "attachments": {},
   "cell_type": "markdown",
   "metadata": {},
   "source": [
    "### Section II - Q9: List, in order by year, each of the films in which Frank Oz has played more than 1 role."
   ]
  },
  {
   "cell_type": "code",
   "execution_count": 296,
   "metadata": {},
   "outputs": [
    {
     "data": {
      "text/plain": [
       "year  title                               \n",
       "1979  The Muppet Movie                        8\n",
       "1981  An American Werewolf in London          2\n",
       "      The Great Muppet Caper                  6\n",
       "1982  The Dark Crystal                        2\n",
       "1984  The Muppets Take Manhattan              7\n",
       "1985  Follow That Bird                        3\n",
       "1992  The Muppet Christmas Carol              7\n",
       "1996  Muppet Treasure Island                  4\n",
       "1999  Muppets from Space                      4\n",
       "      The Adventures of Elmo in Grouchland    3\n",
       "dtype: int64"
      ]
     },
     "execution_count": 296,
     "metadata": {},
     "output_type": "execute_result"
    }
   ],
   "source": [
    "# List, in order by year, each of the films in which Frank Oz has played more than 1 role. \n",
    "\n",
    "# print(cast[cast.name == 'Frank Oz'].title.value_counts()[cast[cast.name == 'Frank Oz'].title.value_counts() > 1])\n",
    "\n",
    "#cast[cast.name == 'Frank Oz'].title.value_counts()\n",
    "\n",
    "cast[cast.name == 'Frank Oz'].groupby(['year', 'title']).size()[cast[cast.name == 'Frank Oz'].groupby(['year', 'title']).size() > 1]\n"
   ]
  },
  {
   "attachments": {},
   "cell_type": "markdown",
   "metadata": {},
   "source": [
    "### Section II - Q10: List each of the characters that Frank Oz has portrayed at least twice"
   ]
  },
  {
   "cell_type": "code",
   "execution_count": 300,
   "metadata": {},
   "outputs": [
    {
     "name": "stdout",
     "output_type": "stream",
     "text": [
      "character\n",
      "Miss Piggy        6\n",
      "Yoda              6\n",
      "Animal            6\n",
      "Cookie Monster    5\n",
      "Sam the Eagle     5\n",
      "Fozzie Bear       4\n",
      "Bert              3\n",
      "Grover            2\n",
      "Name: count, dtype: int64\n"
     ]
    }
   ],
   "source": [
    "#List each of the characters that Frank Oz has portrayed at least twice\n",
    "\n",
    "#cast[cast.name == 'Frank Oz'].character.value_counts()\n",
    "\n",
    "print(cast[cast.name == 'Frank Oz'].character.value_counts()[cast[cast.name == 'Frank Oz'].character.value_counts() > 1])"
   ]
  },
  {
   "attachments": {},
   "cell_type": "markdown",
   "metadata": {},
   "source": [
    "# Section III - Advanced Merging, Querying and Visualizations"
   ]
  },
  {
   "attachments": {},
   "cell_type": "markdown",
   "metadata": {},
   "source": [
    "## Make a bar plot with the following conditions\n",
    "- Frequency of the number of movies with \"Christmas\" in their title \n",
    "- Movies should be such that they are released in the USA.\n",
    "- Show the frequency plot by month"
   ]
  },
  {
   "cell_type": "code",
   "execution_count": 301,
   "metadata": {},
   "outputs": [
    {
     "data": {
      "text/plain": [
       "<Axes: xlabel='date'>"
      ]
     },
     "execution_count": 301,
     "metadata": {},
     "output_type": "execute_result"
    },
    {
     "data": {
      "image/png": "[encoded data removed]",
      "text/plain": [
       "<Figure size 640x480 with 1 Axes>"
      ]
     },
     "metadata": {},
     "output_type": "display_data"
    }
   ],
   "source": [
    "christmas = release_dates[(release_dates.title.str.contains('Christmas')) & (release_dates.country == 'USA')]\n",
    "christmas.date.dt.month.value_counts().sort_index().plot(kind='bar')"
   ]
  },
  {
   "attachments": {},
   "cell_type": "markdown",
   "metadata": {},
   "source": [
    "### Section III - Q1: Make a bar plot with the following conditions\n",
    "- Frequency of the number of movies with \"Summer\" in their title \n",
    "- Movies should be such that they are released in the USA.\n",
    "- Show the frequency plot by month"
   ]
  },
  {
   "cell_type": "code",
   "execution_count": 305,
   "metadata": {},
   "outputs": [
    {
     "data": {
      "text/plain": [
       "<Axes: xlabel='date'>"
      ]
     },
     "execution_count": 305,
     "metadata": {},
     "output_type": "execute_result"
    },
    {
     "data": {
      "image/png": "[encoded data removed]",
      "text/plain": [
       "<Figure size 640x480 with 1 Axes>"
      ]
     },
     "metadata": {},
     "output_type": "display_data"
    }
   ],
   "source": [
    "summer = release_dates[(release_dates.title.str.contains('Summer')) & (release_dates.country == 'USA')]\n",
    "summer.date.dt.month.value_counts().sort_index().plot(kind='bar')"
   ]
  },
  {
   "attachments": {},
   "cell_type": "markdown",
   "metadata": {},
   "source": [
    "### Section III - Q2: Make a bar plot with the following conditions\n",
    "- Frequency of the number of movies with \"Action\" in their title \n",
    "- Movies should be such that they are released in the USA.\n",
    "- Show the frequency plot by week"
   ]
  },
  {
   "cell_type": "code",
   "execution_count": 319,
   "metadata": {},
   "outputs": [
    {
     "data": {
      "text/plain": [
       "<Axes: xlabel='date'>"
      ]
     },
     "execution_count": 319,
     "metadata": {},
     "output_type": "execute_result"
    },
    {
     "data": {
      "image/png": "[encoded data removed]",
      "text/plain": [
       "<Figure size 640x480 with 1 Axes>"
      ]
     },
     "metadata": {},
     "output_type": "display_data"
    }
   ],
   "source": [
    "movies_action = release_dates[(release_dates.title.str.contains('Action')) & (release_dates.country == 'USA')].sort_values(by=['date'], ascending=True).set_index('date')\n",
    "\n",
    "#movies_action.info()\n",
    "\n",
    "week_movies_action = movies_action.resample('W').size()\n",
    "\n",
    "#week_movies_action.info()\n",
    "\n",
    "#print(week_movies_action)\n",
    "week_movies_action.plot()\n"
   ]
  },
  {
   "attachments": {},
   "cell_type": "markdown",
   "metadata": {},
   "source": [
    "### Section III - Q3: Show all the movies in which Keanu Reeves has played the lead role along with their   release date in the USA sorted by the date of release\n",
    "- Hint: You might need to join or merge two datasets!"
   ]
  },
  {
   "cell_type": "code",
   "execution_count": 354,
   "metadata": {},
   "outputs": [
    {
     "name": "stdout",
     "output_type": "stream",
     "text": [
      "                               title  year          name   type  \\\n",
      "0                   The Night Before  1988  Keanu Reeves  actor   \n",
      "1   Bill & Ted's Excellent Adventure  1989  Keanu Reeves  actor   \n",
      "2         Bill & Ted's Bogus Journey  1991  Keanu Reeves  actor   \n",
      "3                      Little Buddha  1993  Keanu Reeves  actor   \n",
      "4                              Speed  1994  Keanu Reeves  actor   \n",
      "5               A Walk in the Clouds  1995  Keanu Reeves  actor   \n",
      "6                    Johnny Mnemonic  1995  Keanu Reeves  actor   \n",
      "7                     Chain Reaction  1996  Keanu Reeves  actor   \n",
      "8                  Feeling Minnesota  1996  Keanu Reeves  actor   \n",
      "9               The Devil's Advocate  1997  Keanu Reeves  actor   \n",
      "10                        The Matrix  1999  Keanu Reeves  actor   \n",
      "11                  The Replacements  2000  Keanu Reeves  actor   \n",
      "12                         Hard Ball  2001  Keanu Reeves  actor   \n",
      "13                    Sweet November  2001  Keanu Reeves  actor   \n",
      "14                       Constantine  2005  Keanu Reeves  actor   \n",
      "15                    The Lake House  2006  Keanu Reeves  actor   \n",
      "16                      Street Kings  2008  Keanu Reeves  actor   \n",
      "17     The Day the Earth Stood Still  2008  Keanu Reeves  actor   \n",
      "18                          47 Ronin  2013  Keanu Reeves  actor   \n",
      "19                         John Wick  2014  Keanu Reeves  actor   \n",
      "20                       Knock Knock  2015  Keanu Reeves  actor   \n",
      "21              John Wick: Chapter 2  2017  Keanu Reeves  actor   \n",
      "\n",
      "               character    n country       date  \n",
      "0       Winston Connelly  1.0     USA 1988-04-15  \n",
      "1                    Ted  1.0     USA 1989-02-17  \n",
      "2                    Ted  1.0     USA 1991-07-19  \n",
      "3             Siddhartha  1.0     USA 1994-05-25  \n",
      "4            Jack Traven  1.0     USA 1994-06-10  \n",
      "5            Paul Sutton  1.0     USA 1995-08-11  \n",
      "6        Johnny Mnemonic  1.0     USA 1995-05-26  \n",
      "7       Eddie Kasalivich  1.0     USA 1996-08-02  \n",
      "8          Jjaks Clayton  1.0     USA 1996-09-13  \n",
      "9            Kevin Lomax  1.0     USA 1997-10-17  \n",
      "10                   Neo  1.0     USA 1999-03-31  \n",
      "11           Shane Falco  1.0     USA 2000-08-11  \n",
      "12         Conor O'Neill  1.0     USA 2001-09-14  \n",
      "13           Nelson Moss  1.0     USA 2001-02-16  \n",
      "14      John Constantine  1.0     USA 2005-02-18  \n",
      "15            Alex Wyler  1.0     USA 2006-06-16  \n",
      "16  Detective Tom Ludlow  1.0     USA 2008-04-11  \n",
      "17                Klaatu  1.0     USA 2008-12-12  \n",
      "18                   Kai  1.0     USA 2013-12-25  \n",
      "19             John Wick  1.0     USA 2014-10-24  \n",
      "20                  Evan  1.0     USA 2015-10-09  \n",
      "21             John Wick  1.0     USA 2017-02-10  \n"
     ]
    }
   ],
   "source": [
    "#cast.info()\n",
    "\n",
    "#release_dates[release_dates.country == 'USA'].sort_values(by=['date'], ascending=True)\n",
    "\n",
    "#cast_kr_df[cast_kr_df.n == 1].sort_values(by=['year'], ascending=True)\n",
    "\n",
    "merged_kr_df = pd.merge(cast_kr_df[cast_kr_df.n == 1].sort_values(by=['year'], ascending=True), release_dates[release_dates.country == 'USA'].sort_values(by=['date'], ascending=True), on=['title', 'year'])\n",
    "\n",
    "#merged_df.info()\n",
    "print(merged_kr_df.sort_values(by=['year'], ascending=True))\n",
    "\n"
   ]
  },
  {
   "attachments": {},
   "cell_type": "markdown",
   "metadata": {},
   "source": [
    "### Section III - Q4: Make a bar plot showing the months in which movies with Keanu Reeves tend to be released in the USA?"
   ]
  },
  {
   "cell_type": "code",
   "execution_count": 356,
   "metadata": {},
   "outputs": [
    {
     "data": {
      "text/plain": [
       "<Axes: xlabel='date'>"
      ]
     },
     "execution_count": 356,
     "metadata": {},
     "output_type": "execute_result"
    },
    {
     "data": {
      "image/png": "[encoded data removed]",
      "text/plain": [
       "<Figure size 640x480 with 1 Axes>"
      ]
     },
     "metadata": {},
     "output_type": "display_data"
    }
   ],
   "source": [
    "#merged_kr_df.info()\n",
    "\n",
    "merged_kr_df.date.dt.month.value_counts().sort_index().plot(kind='bar')\n",
    "\n",
    "\n"
   ]
  },
  {
   "attachments": {},
   "cell_type": "markdown",
   "metadata": {},
   "source": [
    "### Section III - Q5: Make a bar plot showing the years in which movies with Ian McKellen tend to be released in the USA?"
   ]
  },
  {
   "cell_type": "code",
   "execution_count": 363,
   "metadata": {},
   "outputs": [
    {
     "name": "stdout",
     "output_type": "stream",
     "text": [
      "                                                title  year          name  \\\n",
      "0                                      Priest of Love  1981  Ian McKellen   \n",
      "1                                            The Keep  1983  Ian McKellen   \n",
      "2                                              Plenty  1985  Ian McKellen   \n",
      "3                                             Scandal  1989  Ian McKellen   \n",
      "4                             The Ballad of Little Jo  1993  Ian McKellen   \n",
      "5                           Six Degrees of Separation  1993  Ian McKellen   \n",
      "6                                    Last Action Hero  1993  Ian McKellen   \n",
      "7                                          To Die For  1994  Ian McKellen   \n",
      "8                                          The Shadow  1994  Ian McKellen   \n",
      "9                                    I'll Do Anything  1994  Ian McKellen   \n",
      "10                                        Restoration  1995  Ian McKellen   \n",
      "11                                        Richard III  1995  Ian McKellen   \n",
      "12                                       Jack & Sarah  1995  Ian McKellen   \n",
      "13                                               Bent  1997  Ian McKellen   \n",
      "14                                 Swept from the Sea  1997  Ian McKellen   \n",
      "15                                  Gods and Monsters  1998  Ian McKellen   \n",
      "16                                          Apt Pupil  1998  Ian McKellen   \n",
      "17                                              X-Men  2000  Ian McKellen   \n",
      "18                                              X-Men  2000  Ian McKellen   \n",
      "19  The Lord of the Rings: The Fellowship of the Ring  2001  Ian McKellen   \n",
      "20              The Lord of the Rings: The Two Towers  2002  Ian McKellen   \n",
      "21      The Lord of the Rings: The Return of the King  2003  Ian McKellen   \n",
      "22                                                 X2  2003  Ian McKellen   \n",
      "23                                                 X2  2003  Ian McKellen   \n",
      "24                              X-Men: The Last Stand  2006  Ian McKellen   \n",
      "25                              X-Men: The Last Stand  2006  Ian McKellen   \n",
      "26                                             Doogal  2006  Ian McKellen   \n",
      "27                                  The Da Vinci Code  2006  Ian McKellen   \n",
      "28                                       Flushed Away  2006  Ian McKellen   \n",
      "29                                 The Golden Compass  2007  Ian McKellen   \n",
      "30                                           Stardust  2007  Ian McKellen   \n",
      "31                  The Hobbit: An Unexpected Journey  2012  Ian McKellen   \n",
      "32                                      The Wolverine  2013  Ian McKellen   \n",
      "33                The Hobbit: The Desolation of Smaug  2013  Ian McKellen   \n",
      "34          The Hobbit: The Battle of the Five Armies  2014  Ian McKellen   \n",
      "35                         X-Men: Days of Future Past  2014  Ian McKellen   \n",
      "36                                         Mr. Holmes  2015  Ian McKellen   \n",
      "37                                    Animal Crackers  2017  Ian McKellen   \n",
      "38                               Beauty and the Beast  2017  Ian McKellen   \n",
      "\n",
      "     type                   character     n country       date  \n",
      "0   actor               D.H. Lawrence   1.0     USA 1981-10-11  \n",
      "1   actor           Dr. Theodore Cuza   6.0     USA 1983-12-16  \n",
      "2   actor        Sir Andrew Charleson  45.0     USA 1985-09-20  \n",
      "3   actor                John Profumo   4.0     USA 1989-04-28  \n",
      "4   actor              Percy Corcoran   3.0     USA 1993-08-20  \n",
      "5   actor                    Geoffrey   4.0     USA 1993-12-08  \n",
      "6   actor                       Death  11.0     USA 1993-06-18  \n",
      "7   actor  Quilt Documentary Narrator   6.0     USA 1994-12-02  \n",
      "8   actor              Reinhardt Lane   5.0     USA 1994-07-01  \n",
      "9   actor          John Earl McAlpine  11.0     USA 1994-02-04  \n",
      "10  actor                  Will Gates   6.0     USA 1996-02-02  \n",
      "11  actor                 Richard III   3.0     USA 1995-12-29  \n",
      "12  actor                     William  10.0     USA 1996-03-22  \n",
      "13  actor               Uncle Freddie  12.0     USA 1997-11-26  \n",
      "14  actor           Dr. James Kennedy   3.0     USA 1998-01-23  \n",
      "15  actor                 James Whale   1.0     USA 1998-11-04  \n",
      "16  actor              Kurt Dussander   2.0     USA 1998-10-23  \n",
      "17  actor                     Magneto   3.0     USA 2000-07-14  \n",
      "18  actor               Eric Lensherr   3.0     USA 2000-07-14  \n",
      "19  actor                     Gandalf  17.0     USA 2001-12-19  \n",
      "20  actor                     Gandalf  20.0     USA 2002-12-18  \n",
      "21  actor                     Gandalf  20.0     USA 2003-12-17  \n",
      "22  actor              Eric Lehnsherr   3.0     USA 2003-05-02  \n",
      "23  actor                     Magneto   3.0     USA 2003-05-02  \n",
      "24  actor              Erik Lehnsherr   3.0     USA 2006-05-26  \n",
      "25  actor                     Magneto   3.0     USA 2006-05-26  \n",
      "26  actor                     Zebedee   9.0     USA 2006-02-24  \n",
      "27  actor           Sir Leigh Teabing   3.0     USA 2006-05-19  \n",
      "28  actor                    The Toad   3.0     USA 2006-11-03  \n",
      "29  actor              Iorek Byrnison   6.0     USA 2007-12-07  \n",
      "30  actor                    Narrator   1.0     USA 2007-08-10  \n",
      "31  actor                     Gandalf   1.0     USA 2012-12-14  \n",
      "32  actor                     Magneto   NaN     USA 2013-07-26  \n",
      "33  actor                     Gandalf   1.0     USA 2013-12-13  \n",
      "34  actor                     Gandalf   1.0     USA 2014-12-17  \n",
      "35  actor                     Magneto  18.0     USA 2014-05-23  \n",
      "36  actor             Sherlock Holmes   1.0     USA 2015-07-24  \n",
      "37  actor       Horatio P. Huntington   4.0     USA 2018-05-04  \n",
      "38  actor                   Cogsworth  11.0     USA 2017-03-17  \n"
     ]
    },
    {
     "data": {
      "image/png": "[encoded data removed]",
      "text/plain": [
       "<Figure size 640x480 with 1 Axes>"
      ]
     },
     "metadata": {},
     "output_type": "display_data"
    }
   ],
   "source": [
    "im_c_df = cast[cast.name == 'Ian McKellen'].sort_values(by=['year'], ascending=True)\n",
    "im_m_df = release_dates[release_dates.country == 'USA'].sort_values(by=['date'], ascending=True)\n",
    "\n",
    "im_merged_df = pd.merge(im_c_df, im_m_df, on=['title', 'year'])\n",
    "\n",
    "im_merged_df.date.dt.year.value_counts().sort_index().plot(kind='bar')\n",
    "\n",
    "print(im_merged_df)"
   ]
  }
 ],
 "metadata": {
  "kernelspec": {
   "display_name": "Python 3",
   "language": "python",
   "name": "python3"
  },
  "language_info": {
   "codemirror_mode": {
    "name": "ipython",
    "version": 3
   },
   "file_extension": ".py",
   "mimetype": "text/x-python",
   "name": "python",
   "nbconvert_exporter": "python",
   "pygments_lexer": "ipython3",
   "version": "3.10.8"
  }
 },
 "nbformat": 4,
 "nbformat_minor": 2
}
